{
 "cells": [
  {
   "cell_type": "code",
   "execution_count": 6,
   "metadata": {},
   "outputs": [],
   "source": [
    "import numpy as np\n",
    "import cv2"
   ]
  },
  {
   "cell_type": "markdown",
   "metadata": {},
   "source": [
    "生成噪声图片"
   ]
  },
  {
   "cell_type": "code",
   "execution_count": 8,
   "metadata": {},
   "outputs": [
    {
     "data": {
      "text/plain": [
       "True"
      ]
     },
     "execution_count": 8,
     "metadata": {},
     "output_type": "execute_result"
    }
   ],
   "source": [
    "sigma = 100\n",
    "dir_path = './data/CBSD68/197017.png'\n",
    "# cv2的读取和显示顺序都是b，g，r\n",
    "img = cv2.imread(dir_path)\n",
    "d0, d1, d2 = img.shape\n",
    "noise = np.random.randn(d0, d1, d2)*sigma\n",
    "img_noise = noise + img\n",
    "cv2.imwrite('./results/denoise/197017.png', img_noise)\n",
    "\n",
    "dir_path = './data/Set68/test066.png'\n",
    "# cv2的读取和显示顺序都是b，g，r\n",
    "img = cv2.imread(dir_path, 0)\n",
    "d0, d1 = img.shape\n",
    "noise = np.random.randn(d0, d1)*sigma\n",
    "img_noise = noise + img\n",
    "cv2.imwrite('./results/denoise/test066.png', img_noise)"
   ]
  },
  {
   "cell_type": "markdown",
   "metadata": {},
   "source": [
    "生成运动模糊图片"
   ]
  },
  {
   "cell_type": "code",
   "execution_count": 9,
   "metadata": {},
   "outputs": [],
   "source": [
    "img_path = './data/CBSD68/197017.png'\n",
    "img = cv2.imread(img_path)\n",
    "# 创造一个运动模糊滤波器\n",
    "size = 21\n",
    "kernel = np.zeros([size, size])\n",
    "# 将中间一行设置为1\n",
    "kernel[int((size-1)/2), :] = np.ones(size)\n",
    "kernel = kernel / size\n",
    "# 该函数可以对不同通道用相同的核做卷积\n",
    "img_blur = cv2.filter2D(img, -1, kernel)\n",
    "cv2.imwrite('./results/denoise/blur_motion.png', img_blur)\n",
    "cv2.imshow('Image', img_blur)\n",
    "cv2.waitKey(0)\n",
    "cv2.destroyAllWindows()"
   ]
  },
  {
   "cell_type": "markdown",
   "metadata": {},
   "source": [
    "生成gaussian模糊的图片"
   ]
  },
  {
   "cell_type": "code",
   "execution_count": null,
   "metadata": {},
   "outputs": [],
   "source": [
    "from skimage.filters import gaussian\n",
    "\n",
    "kernel = gaussian([5,5], 1.5)\n",
    "print(kernel)"
   ]
  },
  {
   "cell_type": "code",
   "execution_count": 16,
   "metadata": {},
   "outputs": [],
   "source": [
    "\n",
    "img_path = './data/CBSD68/21077.png'\n",
    "img = cv2.imread(img_path)\n",
    "img_gaussblur = cv2.GaussianBlur(img, (5,5), 10)\n",
    "cv2.imwrite('./results/denoise/blur_gauss.png', img_gaussblur)\n",
    "cv2.imshow('gaussian blur', img_gaussblur)\n",
    "cv2.waitKey(0)\n",
    "cv2.destroyAllWindows()"
   ]
  },
  {
   "cell_type": "markdown",
   "metadata": {},
   "source": [
    "### 生成对比结果"
   ]
  },
  {
   "cell_type": "code",
   "execution_count": 5,
   "metadata": {},
   "outputs": [
    {
     "name": "stdout",
     "output_type": "stream",
     "text": [
      "01.png PSNR = 14.13\n",
      "02.png PSNR = 14.17\n",
      "03.png PSNR = 14.15\n",
      "04.png PSNR = 14.13\n",
      "05.png PSNR = 14.16\n",
      "06.png PSNR = 14.21\n",
      "07.png PSNR = 14.13\n",
      "08.png PSNR = 14.15\n",
      "09.png PSNR = 14.14\n",
      "10.png PSNR = 14.16\n",
      "11.png PSNR = 14.13\n",
      "12.png PSNR = 14.15\n"
     ]
    }
   ],
   "source": [
    "import os\n",
    "from skimage.metrics import peak_signal_noise_ratio\n",
    "import cv2\n",
    "import numpy as np\n",
    "\n",
    "read_path = 'data/Set12'\n",
    "sigma = 50\n",
    "names = os.listdir(read_path)\n",
    "for name in names:\n",
    "    img_path = os.path.join(read_path, name)\n",
    "    image = cv2.imread(img_path, 0)\n",
    "    image = (image/255).astype('float32')\n",
    "    [d0, d1] = image.shape\n",
    "    noise = np.random.randn(d0, d1)*(sigma/255)\n",
    "    noise_image = noise + image\n",
    "    psnr = peak_signal_noise_ratio(noise_image, image, data_range=1)\n",
    "    print('{} PSNR = {:.2f}'.format(name, psnr))"
   ]
  }
 ],
 "metadata": {
  "kernelspec": {
   "display_name": "Python [conda env:zhangsx]",
   "language": "python",
   "name": "conda-env-zhangsx-py"
  },
  "language_info": {
   "codemirror_mode": {
    "name": "ipython",
    "version": 3
   },
   "file_extension": ".py",
   "mimetype": "text/x-python",
   "name": "python",
   "nbconvert_exporter": "python",
   "pygments_lexer": "ipython3",
   "version": "3.8.8"
  }
 },
 "nbformat": 4,
 "nbformat_minor": 4
}

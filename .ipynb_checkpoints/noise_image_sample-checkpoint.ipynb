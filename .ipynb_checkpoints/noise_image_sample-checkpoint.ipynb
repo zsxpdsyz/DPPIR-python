{
 "cells": [
  {
   "cell_type": "code",
   "execution_count": 2,
   "metadata": {},
   "outputs": [],
   "source": [
    "import numpy as np\n",
    "import cv2"
   ]
  },
  {
   "cell_type": "markdown",
   "metadata": {},
   "source": [
    "生成噪声图片"
   ]
  },
  {
   "cell_type": "code",
   "execution_count": null,
   "metadata": {},
   "outputs": [],
   "source": [
    "sigma = 50\n",
    "dir_path = './data/CBSD68/3096.png'\n",
    "# cv2的读取和显示顺序都是b，g，r\n",
    "img = cv2.imread(dir_path)\n",
    "d0, d1, d2 = img.shape\n",
    "noise = np.random.randn(d0, d1, d2)*sigma\n",
    "img_noise = noise + img\n",
    "cv2.imwrite('./results/denoise/3096.png', img_noise)\n",
    "\n",
    "dir_path = './data/Set68/test066.png'\n",
    "# cv2的读取和显示顺序都是b，g，r\n",
    "img = cv2.imread(dir_path, 0)\n",
    "d0, d1 = img.shape\n",
    "noise = np.random.randn(d0, d1)*sigma\n",
    "img_noise = noise + img\n",
    "cv2.imwrite('./results/denoise/test066.png', img_noise)"
   ]
  },
  {
   "cell_type": "markdown",
   "metadata": {},
   "source": [
    "生成模糊图片"
   ]
  },
  {
   "cell_type": "code",
   "execution_count": 3,
   "metadata": {},
   "outputs": [],
   "source": [
    "img_path = './data/CBSD68/21077.png'\n",
    "img = cv2.imread(img_path)\n",
    "# 创造一个运动模糊滤波器\n",
    "size = 21\n",
    "kernel = np.zeros([size, size])\n",
    "# 将中间一行设置为1\n",
    "kernel[int((size-1)/2), :] = np.ones(size)\n",
    "kernel = kernel / size\n",
    "# 该函数可以对不同通道用相同的核做卷积\n",
    "img_blur = cv2.filter2D(img, -1, kernel)\n",
    "cv2.imwrite('./results/denoise/blur_rgb.png', img_blur)\n",
    "cv2.imshow('Image', img_blur)\n",
    "cv2.waitKey(0)\n",
    "cv2.destroyAllWindows()"
   ]
  }
 ],
 "metadata": {
  "kernelspec": {
   "display_name": "Python [conda env:zhangsx]",
   "language": "python",
   "name": "conda-env-zhangsx-py"
  },
  "language_info": {
   "codemirror_mode": {
    "name": "ipython",
    "version": 3
   },
   "file_extension": ".py",
   "mimetype": "text/x-python",
   "name": "python",
   "nbconvert_exporter": "python",
   "pygments_lexer": "ipython3",
   "version": "3.8.8"
  }
 },
 "nbformat": 4,
 "nbformat_minor": 4
}
